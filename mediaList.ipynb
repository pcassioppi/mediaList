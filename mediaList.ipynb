{
 "cells": [
  {
   "cell_type": "code",
   "execution_count": 269,
   "metadata": {},
   "outputs": [],
   "source": [
    "from requests import get\n",
    "from bs4 import BeautifulSoup"
   ]
  },
  {
   "cell_type": "code",
   "execution_count": 273,
   "metadata": {},
   "outputs": [],
   "source": [
    "#creating loop to create urls for 50 movies at a time\n",
    "\n",
    "#initializing iterator variable (pages increment in form of 'start=1', then 'start=51', then 'start=101'......)\n",
    "z = 1\n",
    "\n",
    "#creating empty list for urls to be stored in\n",
    "urls = []\n",
    "\n",
    "#while the number of movies is below 4002 (arbitrary #)\n",
    "while z < 4002:\n",
    "    \n",
    "    #generating url using format to insert the incrementing variable on each loop\n",
    "    url = 'https://www.imdb.com/search/title/?title_type=feature&moviemeter=,4000&sort=user_rating,desc&start={}&ref_=adv_nxt'.format(z)\n",
    "    \n",
    "    #appending the url to the list of urls\n",
    "    urls.append(url)\n",
    "    \n",
    "    #incrementing iterator variable so it can go to the next page (there are 50 movies listed per page)\n",
    "    z += 50\n"
   ]
  },
  {
   "cell_type": "code",
   "execution_count": 274,
   "metadata": {},
   "outputs": [],
   "source": [
    "#for loop to get all the html objects of each array into a soup object\n",
    "\n",
    "#creating empty soup item to store the generated html files in\n",
    "html_soups = BeautifulSoup()\n",
    "\n",
    "#iterating through the url pages\n",
    "for url in urls:\n",
    "    \n",
    "    #creating response to use in BeautifulSoup function\n",
    "    response = get(url)\n",
    "    \n",
    "    #using the BeautifulSoup function on each response, appending the resulting soup object into the empty 'html_soups'\n",
    "    html_soups.append(BeautifulSoup(response.text, 'html.parser'))"
   ]
  },
  {
   "cell_type": "code",
   "execution_count": 275,
   "metadata": {},
   "outputs": [
    {
     "name": "stdout",
     "output_type": "stream",
     "text": [
      "<class 'bs4.element.ResultSet'>\n",
      "2758\n"
     ]
    }
   ],
   "source": [
    "#creating containers for each movie, seperating at 'lister-item mode-advanced' on html doc\n",
    "m_containers = html_soups.find_all('div', class_='lister-item mode-advanced')\n",
    "\n",
    "#printing to make sure the results are what we expect; if you go to the URL, there are only 2758 items on the list created, all are here\n",
    "print(type(m_containers))\n",
    "print(len(m_containers))"
   ]
  },
  {
   "cell_type": "code",
   "execution_count": 305,
   "metadata": {},
   "outputs": [],
   "source": [
    "#creating empty arrays to store individual movie info in\n",
    "titles = []\n",
    "years = []\n",
    "imdb_ratings = []\n",
    "summs = []\n",
    "mpaa_rates = []"
   ]
  },
  {
   "cell_type": "code",
   "execution_count": 306,
   "metadata": {},
   "outputs": [],
   "source": [
    "#for loop to parse through each movie in m_containers and get the info\n",
    "for container in m_containers:\n",
    "    \n",
    "    #finding title of movie through its location in html doc\n",
    "    title = container.h3.a.text\n",
    "    \n",
    "    #appending title to empty title list\n",
    "    titles.append(title)\n",
    "\n",
    "    \n",
    "    #finding year of movie through its location in html doc\n",
    "    year = container.h3.find('span', class_='lister-item-year').text\n",
    "    \n",
    "    #appending year to empty year list\n",
    "    years.append(year)\n",
    "\n",
    "    \n",
    "    #if function created to deal with any movies that dont have ratings\n",
    "   \n",
    "    #if there is a rating found in the html\n",
    "    if container.strong is not None:\n",
    "        \n",
    "        #imdb rating stored in i_rate\n",
    "        i_rate = float(container.strong.text)\n",
    "        \n",
    "        #value added to imdb ratings list\n",
    "        imdb_ratings.append(i_rate)\n",
    "        \n",
    "    #if there is NO imdb rating:\n",
    "    else:\n",
    "        \n",
    "        #set it to 0\n",
    "        imdb_ratings.append(0)\n",
    "\n",
    "        \n",
    "    #finding mpaa rating (G/PG/R etc.) in html\n",
    "    rating = container.p.span.text\n",
    "    \n",
    "    #appending mpaa rating to mpaa_rates list\n",
    "    mpaa_rates.append(rating)\n",
    "    \n",
    "\n",
    "    #finding summary of movie in html\n",
    "    summary = container.find_all('p', class_='text-muted')[1].text.strip('\\n   ')\n",
    "    \n",
    "    #appending summary to summs list\n",
    "    summs.append(summary)"
   ]
  },
  {
   "cell_type": "code",
   "execution_count": 307,
   "metadata": {},
   "outputs": [
    {
     "name": "stdout",
     "output_type": "stream",
     "text": [
      "2758\n",
      "2758\n",
      "2758\n",
      "2758\n",
      "2758\n"
     ]
    }
   ],
   "source": [
    "#checking if all lengths match up\n",
    "print(len(titles))\n",
    "print(len(summs))\n",
    "print(len(years))\n",
    "print(len(imdb_ratings))\n",
    "print(len(mpaa_rates))"
   ]
  },
  {
   "cell_type": "markdown",
   "metadata": {},
   "source": [
    "To do tomorrow:\n",
    "1. find a way to get the documents into json format to be transferred to mongodb db\n",
    "\n",
    "2. Begin process of creating functionality - research how to do the things we want to do"
   ]
  },
  {
   "cell_type": "code",
   "execution_count": null,
   "metadata": {},
   "outputs": [],
   "source": [
    "test='test'"
   ]
  },
  {
   "cell_type": "code",
   "execution_count": 315,
   "metadata": {},
   "outputs": [],
   "source": [
    "import pandas as pd\n",
    "df = pd.DataFrame({'movie': titles,\n",
    "'year': years,\n",
    "'imdb': imdb_ratings,\n",
    "'summary': summs,\n",
    "'mpaa_rates': mpaa_rates\n",
    "})\n",
    "\n",
    "#removing movies with 0's as they arent out yet...\n",
    "df = df[df.imdb != 0]"
   ]
  },
  {
   "cell_type": "code",
   "execution_count": 317,
   "metadata": {},
   "outputs": [],
   "source": []
  },
  {
   "cell_type": "code",
   "execution_count": null,
   "metadata": {},
   "outputs": [],
   "source": []
  }
 ],
 "metadata": {
  "kernelspec": {
   "display_name": "Python 3",
   "language": "python",
   "name": "python3"
  },
  "language_info": {
   "codemirror_mode": {
    "name": "ipython",
    "version": 3
   },
   "file_extension": ".py",
   "mimetype": "text/x-python",
   "name": "python",
   "nbconvert_exporter": "python",
   "pygments_lexer": "ipython3",
   "version": "3.7.1"
  }
 },
 "nbformat": 4,
 "nbformat_minor": 4
}
