{
 "cells": [
  {
   "cell_type": "code",
   "execution_count": 182,
   "metadata": {},
   "outputs": [],
   "source": [
    "from requests import get\n",
    "from bs4 import BeautifulSoup\n",
    "from decimal import Decimal"
   ]
  },
  {
   "cell_type": "code",
   "execution_count": 183,
   "metadata": {},
   "outputs": [],
   "source": [
    "#creating loop to create urls for 50 movies at a time\n",
    "\n",
    "#initializing iterator variable (pages increment in form of 'start=1', then 'start=51', then 'start=101'......)\n",
    "z = 1\n",
    "\n",
    "#creating empty list for urls to be stored in\n",
    "urls = []\n",
    "\n",
    "#while the number of movies is below 4002 (arbitrary #)\n",
    "while z < 4002:\n",
    "    \n",
    "    #generating url using format to insert the incrementing variable on each loop\n",
    "    url = 'https://www.imdb.com/search/title/?title_type=feature&moviemeter=,4000&sort=user_rating,desc&start={}&ref_=adv_nxt'.format(z)\n",
    "    #try and use this url at some point\n",
    "    #https://www.imdb.com/search/title/?title_type=feature&release_date=1950-01-01,2020-06-30&user_rating=4.0,&start=1&ref_=adv_nxt\n",
    "    \n",
    "    #appending the url to the list of urls\n",
    "    urls.append(url)\n",
    "    \n",
    "    #incrementing iterator variable so it can go to the next page (there are 50 movies listed per page)\n",
    "    z += 50"
   ]
  },
  {
   "cell_type": "code",
   "execution_count": 184,
   "metadata": {},
   "outputs": [],
   "source": [
    "#for loop to get all the html objects of each array into a soup object\n",
    "\n",
    "#creating empty soup item to store the generated html files in\n",
    "html_soups = BeautifulSoup()\n",
    "\n",
    "#iterating through the url pages\n",
    "for url in urls:\n",
    "    \n",
    "    #creating response to use in BeautifulSoup function\n",
    "    response = get(url)\n",
    "    \n",
    "    #using the BeautifulSoup function on each response, appending the resulting soup object into the empty 'html_soups'\n",
    "    html_soups.append(BeautifulSoup(response.text, 'html.parser'))"
   ]
  },
  {
   "cell_type": "code",
   "execution_count": 185,
   "metadata": {},
   "outputs": [
    {
     "name": "stdout",
     "output_type": "stream",
     "text": [
      "<class 'bs4.element.ResultSet'>\n",
      "2745\n"
     ]
    }
   ],
   "source": [
    "#creating containers for each movie, seperating at 'lister-item mode-advanced' on html doc\n",
    "m_containers = html_soups.find_all('div', class_='lister-item mode-advanced')\n",
    "\n",
    "#printing to make sure the results are what we expect; if you go to the URL, there are only 2758 items on the list created, all are here\n",
    "print(type(m_containers))\n",
    "print(len(m_containers))"
   ]
  },
  {
   "cell_type": "code",
   "execution_count": 207,
   "metadata": {},
   "outputs": [
    {
     "data": {
      "text/plain": [
       "2745"
      ]
     },
     "execution_count": 207,
     "metadata": {},
     "output_type": "execute_result"
    }
   ],
   "source": [
    "ratings=[]\n",
    "for container in m_containers:\n",
    "    \n",
    "\n",
    "    \n",
    "    #finding link for each movies imdb page\n",
    "    #for loop to go through the container and find the correct link\n",
    "    for a in container.h3.find_all('a', href=True):\n",
    "        m_link = ('imdb.com'+a['href'])\n",
    "\n",
    "\n",
    " \n",
    "    \n",
    "    #if function created to deal with any movies that dont have ratings\n",
    "   \n",
    "    #if there is a rating found in the html\n",
    "    if container.strong is not None:\n",
    "        \n",
    "        #imdb rating stored in i_rate\n",
    "        i_rate = float(container.strong.text)\n",
    "        \n",
    "    #if there is NO imdb rating this means the movie isnt out yet\n",
    "    else:\n",
    "        \n",
    "        #set i_rate to 0\n",
    "        i_rate = 0\n",
    "\n",
    "    #print(m_link)\n",
    "    #finding mpaa rating (G/PG/R etc.) in html\n",
    "    if container.p.find('span', {'class':'certificate'}) is not None:\n",
    "        rating = container.p.find('span', {'class':'certificate'}).text\n",
    "    else:\n",
    "        rating = 'Not Rated'\n",
    "    ratings.append(rating)\n",
    "    \n",
    "    \n",
    "    #print(rating)\n",
    "    \n",
    "len(ratings)"
   ]
  },
  {
   "cell_type": "code",
   "execution_count": 269,
   "metadata": {},
   "outputs": [
    {
     "data": {
      "text/plain": [
       "[{'title': 'The Shawshank Redemption',\n",
       "  'link': 'imdb.com/title/tt0111161/',\n",
       "  'year': '1994',\n",
       "  'imdbrating': Decimal('9.3'),\n",
       "  'summary': 'Two imprisoned men bond over a number of years, finding solace and eventual redemption through acts of common decency.',\n",
       "  'mpaa': 'R',\n",
       "  'directors': ['Frank Darabont'],\n",
       "  'stars': ['Tim Robbins', 'Morgan Freeman', 'Bob Gunton', 'William Sadler']},\n",
       " {'title': 'The Godfather',\n",
       "  'link': 'imdb.com/title/tt0068646/',\n",
       "  'year': '1972',\n",
       "  'imdbrating': Decimal('9.2'),\n",
       "  'summary': 'The aging patriarch of an organized crime dynasty transfers control of his clandestine empire to his reluctant son.',\n",
       "  'mpaa': 'R',\n",
       "  'directors': ['Francis Ford Coppola'],\n",
       "  'stars': ['Marlon Brando', 'Al Pacino', 'James Caan', 'Diane Keaton']},\n",
       " {'title': 'Hamilton',\n",
       "  'link': 'imdb.com/title/tt8503618/',\n",
       "  'year': '2020',\n",
       "  'imdbrating': Decimal('9.1'),\n",
       "  'summary': \"The real life of one of America's foremost founding fathers and first Secretary of the Treasury, Alexander Hamilton. Captured live on Broadway from the Richard Rodgers Theater with the original Broadway cast.\",\n",
       "  'mpaa': 'PG-13',\n",
       "  'directors': ['Thomas Kail'],\n",
       "  'stars': ['Lin-Manuel Miranda',\n",
       "   'Phillipa Soo',\n",
       "   'Leslie Odom Jr.',\n",
       "   'Renée Elise Goldsberry']},\n",
       " {'title': 'The Dark Knight',\n",
       "  'link': 'imdb.com/title/tt0468569/',\n",
       "  'year': '2008',\n",
       "  'imdbrating': Decimal('9.0'),\n",
       "  'summary': 'When the menace known as the Joker wreaks havoc and chaos on the people of Gotham, Batman must accept one of the greatest psychological and physical tests of his ability to fight injustice.',\n",
       "  'mpaa': 'PG-13',\n",
       "  'directors': ['Christopher Nolan'],\n",
       "  'stars': ['Christian Bale',\n",
       "   'Heath Ledger',\n",
       "   'Aaron Eckhart',\n",
       "   'Michael Caine']},\n",
       " {'title': 'The Godfather: Part II',\n",
       "  'link': 'imdb.com/title/tt0071562/',\n",
       "  'year': '1974',\n",
       "  'imdbrating': Decimal('9.0'),\n",
       "  'summary': 'The early life and career of Vito Corleone in 1920s New York City is portrayed, while his son, Michael, expands and tightens his grip on the family crime syndicate.',\n",
       "  'mpaa': 'R',\n",
       "  'directors': ['Francis Ford Coppola'],\n",
       "  'stars': ['Al Pacino', 'Robert De Niro', 'Robert Duvall', 'Diane Keaton']}]"
      ]
     },
     "execution_count": 269,
     "metadata": {},
     "output_type": "execute_result"
    }
   ],
   "source": [
    "#creating empty list to store dictionaries of each movie info\n",
    "movies = []\n",
    "\n",
    "#for loop to parse through each movie in m_containers and get the info\n",
    "for container in m_containers:\n",
    "    \n",
    "    #finding title of movie through its location in html doc\n",
    "    title = container.h3.a.text\n",
    "    \n",
    "    #finding link for each movies imdb page\n",
    "    #for loop to go through the container and find the correct link\n",
    "    for a in container.h3.find_all('a', href=True):\n",
    "        m_link = ('imdb.com'+a['href'])\n",
    "\n",
    "\n",
    "    \n",
    "    #finding year of movie through its location in html doc\n",
    "    #f container.h3.find('span', class_='lister-item-year').text != '(2021)':\n",
    "    year = container.h3.find('span', class_='lister-item-year').text.replace('(', '').replace(')', '')\n",
    "\n",
    "\n",
    "    \n",
    "    #if function created to deal with any movies that dont have ratings\n",
    "   \n",
    "    #if there is a rating found in the html\n",
    "    if container.strong is not None:\n",
    "        \n",
    "        #imdb rating stored in i_rate\n",
    "        i_rate = Decimal(container.strong.text)\n",
    "        \n",
    "    #if there is NO imdb rating this means the movie isnt out yet\n",
    "    else:\n",
    "        \n",
    "        #set i_rate to 0\n",
    "        i_rate = 0\n",
    "\n",
    "\n",
    "    #finding mpaa rating (G/PG/R etc.) in html, if it exists, if it is not its rating is set to \"Not Rated\"\n",
    "    if container.p.find('span', {'class':'certificate'}) is not None:\n",
    "        rating = container.p.find('span', {'class':'certificate'}).text\n",
    "    else:\n",
    "        rating = 'Not Rated'\n",
    "\n",
    "    #finding director in html\n",
    "    if container.find_all('p')[2].a is not None:\n",
    "        direct = container.find_all('p')[2].a.text\n",
    "    else:\n",
    "        direct = 'NA'\n",
    "\n",
    "    #finding summary of movie in html\n",
    "    summary = container.find_all('p', class_='text-muted')[1].text.strip('\\n   ')\n",
    "    \n",
    "   \n",
    "    \n",
    "    #if the movie has credits, and the length of credits is over 0\n",
    "    #if container.find_all('p')[2].find_all('a') is not None and len(container.find_all('p')[2].find_all('a')) > 0:\n",
    "    \n",
    "    #setting credits to text from the html location\n",
    "    credits = container.find_all('p')[2].text\n",
    "\n",
    "    #if function used to determine if there is more than one star\n",
    "    #creating a list y containing element y[0], a list of the director(s), and y[1], a list of the star(s)\n",
    "    if 'Stars:' in credits:      \n",
    "        y = credits.split('Stars:')\n",
    "\n",
    "    elif 'Star:' in starlist:\n",
    "        y = credits.split('Star:')\n",
    "\n",
    "    #stripping the list made from above, and splitting it at ', \\n' which appears between each star\n",
    "    #resulting in completed list of stars\n",
    "    stars = y[1].strip().split(', \\n')\n",
    "\n",
    "    #creating empty lists for directors\n",
    "    directors=[]\n",
    "    \n",
    "    #stripping and splitting the list of directors at ',\\n' between each director\n",
    "    dirs = y[0].strip().split(', \\n')\n",
    "    \n",
    "    #for loop to strip text of dirs\n",
    "    for i in dirs:       \n",
    "        i = i.replace('\\n|','')\n",
    "        if 'Director:' in i:\n",
    "            i = i.replace('Director:\\n','')\n",
    "\n",
    "        elif 'Directors:' in i:\n",
    "            i = i.replace('Directors:\\n','')\n",
    "        \n",
    "        #appending the new text to directors list\n",
    "        directors.append(i)\n",
    "    \n",
    "    #if there is no imdb rating and it was previously set to zero, the movie is not added to the dictionary\n",
    "    if i_rate != 0:\n",
    "        \n",
    "        #appending the values for movie to dictionaries, creating new 'movie' class for each movie\n",
    "        movies.append({'title':title,'link':m_link, 'year':year, 'imdbrating':i_rate, \"summary\": summary, \"mpaa\":rating, \"directors\":directors, \"stars\":stars})\n",
    "movies[:5]"
   ]
  },
  {
   "cell_type": "code",
   "execution_count": 244,
   "metadata": {},
   "outputs": [],
   "source": [
    "import boto3\n"
   ]
  },
  {
   "cell_type": "code",
   "execution_count": 276,
   "metadata": {},
   "outputs": [],
   "source": [
    "s3 = boto3.resource('s3')\n",
    "dynamodb = boto3.resource('dynamodb',\n",
    "                          region_name='us-east-2')\n",
    "client = boto3.client('dynamodb',\n",
    "                          region_name='us-east-2')"
   ]
  },
  {
   "cell_type": "code",
   "execution_count": 284,
   "metadata": {},
   "outputs": [],
   "source": [
    "table_name = 'movies'\n",
    "existing_tables = client.list_tables()['TableNames']\n",
    "if table_name in existing_tables:\n",
    "    client.delete_table(TableName=table_name)\n",
    "else:\n",
    "    dynamodb.create_table(TableName='movies',\n",
    "                      KeySchema=[\n",
    "                            {\n",
    "                                'AttributeName': 'year',\n",
    "                                'KeyType': 'HASH'\n",
    "                            },\n",
    "                            {\n",
    "                                'AttributeName': 'title',\n",
    "                                'KeyType': 'RANGE'\n",
    "                            }\n",
    "                        ],\n",
    "                        AttributeDefinitions=[\n",
    "                            {\n",
    "                                'AttributeName': 'year',\n",
    "                                'AttributeType': 'S'\n",
    "                            },\n",
    "                            {\n",
    "                                'AttributeName': 'title',\n",
    "                                'AttributeType': 'S'\n",
    "                            }\n",
    "\n",
    "                        ],\n",
    "                        ProvisionedThroughput={\n",
    "                            'ReadCapacityUnits': 10,\n",
    "                            'WriteCapacityUnits': 10\n",
    "                        }\n",
    "    )"
   ]
  },
  {
   "cell_type": "code",
   "execution_count": 270,
   "metadata": {},
   "outputs": [],
   "source": [
    "dynamodb.create_table(TableName='movies',\n",
    "                      KeySchema=[\n",
    "                            {\n",
    "                                'AttributeName': 'year',\n",
    "                                'KeyType': 'HASH'\n",
    "                            },\n",
    "                            {\n",
    "                                'AttributeName': 'title',\n",
    "                                'KeyType': 'RANGE'\n",
    "                            }\n",
    "                        ],\n",
    "                        AttributeDefinitions=[\n",
    "                            {\n",
    "                                'AttributeName': 'year',\n",
    "                                'AttributeType': 'S'\n",
    "                            },\n",
    "                            {\n",
    "                                'AttributeName': 'title',\n",
    "                                'AttributeType': 'S'\n",
    "                            }\n",
    "\n",
    "                        ],\n",
    "                        ProvisionedThroughput={\n",
    "                            'ReadCapacityUnits': 10,\n",
    "                            'WriteCapacityUnits': 10\n",
    "                        }\n",
    "    )\n",
    "dTable = dynamodb.Table('movies')"
   ]
  },
  {
   "cell_type": "code",
   "execution_count": 282,
   "metadata": {},
   "outputs": [],
   "source": [
    "for m in movies:\n",
    "    \n",
    "    dTable.put_item(Item=m)\n",
    "    "
   ]
  },
  {
   "cell_type": "code",
   "execution_count": 209,
   "metadata": {},
   "outputs": [],
   "source": [
    "from pymongo import MongoClient"
   ]
  },
  {
   "cell_type": "code",
   "execution_count": 210,
   "metadata": {},
   "outputs": [],
   "source": [
    "client = MongoClient()\n",
    "\n",
    "client = MongoClient('localhost', 27017)\n",
    "\n",
    "db = client.movie_database\n",
    "\n",
    "collection = db.movies_db"
   ]
  },
  {
   "cell_type": "code",
   "execution_count": 211,
   "metadata": {},
   "outputs": [],
   "source": [
    "for movie in movies:   \n",
    "    collection.insert_one(movie)"
   ]
  },
  {
   "cell_type": "code",
   "execution_count": 212,
   "metadata": {},
   "outputs": [
    {
     "name": "stdout",
     "output_type": "stream",
     "text": [
      "{'_id': ObjectId('5efa3e60d15ed45e4a455a95'), 'Title': 'The Shawshank Redemption', 'Movie Link': 'imdb.com/title/tt0111161/', 'Year': '1994', 'IMDB Rating': 9.3, 'Summary': 'Two imprisoned men bond over a number of years, finding solace and eventual redemption through acts of common decency.', 'MPAA Rating': 'R', 'Director': 'Frank Darabont'}\n",
      "{'_id': ObjectId('5efa3e61d15ed45e4a455a96'), 'Title': 'The Godfather', 'Movie Link': 'imdb.com/title/tt0068646/', 'Year': '1972', 'IMDB Rating': 9.2, 'Summary': 'The aging patriarch of an organized crime dynasty transfers control of his clandestine empire to his reluctant son.', 'MPAA Rating': 'R', 'Director': 'Francis Ford Coppola'}\n",
      "{'_id': ObjectId('5efa3e61d15ed45e4a455a97'), 'Title': 'The Dark Knight', 'Movie Link': 'imdb.com/title/tt0468569/', 'Year': '2008', 'IMDB Rating': 9.0, 'Summary': 'When the menace known as the Joker wreaks havoc and chaos on the people of Gotham, Batman must accept one of the greatest psychological and physical tests of his ability to fight injustice.', 'MPAA Rating': 'PG-13', 'Director': 'Christopher Nolan'}\n",
      "{'_id': ObjectId('5efa3e61d15ed45e4a455a98'), 'Title': 'The Godfather: Part II', 'Movie Link': 'imdb.com/title/tt0071562/', 'Year': '1974', 'IMDB Rating': 9.0, 'Summary': 'The early life and career of Vito Corleone in 1920s New York City is portrayed, while his son, Michael, expands and tightens his grip on the family crime syndicate.', 'MPAA Rating': 'R', 'Director': 'Francis Ford Coppola'}\n",
      "{'_id': ObjectId('5efa3e61d15ed45e4a455a99'), 'Title': 'The Lord of the Rings: The Return of the King', 'Movie Link': 'imdb.com/title/tt0167260/', 'Year': '2003', 'IMDB Rating': 8.9, 'Summary': \"Gandalf and Aragorn lead the World of Men against Sauron's army to draw his gaze from Frodo and Sam as they approach Mount Doom with the One Ring.\", 'MPAA Rating': 'PG-13', 'Director': 'Peter Jackson'}\n"
     ]
    }
   ],
   "source": [
    "for article in collection.find().limit(5):\n",
    "    print(article)"
   ]
  },
  {
   "cell_type": "code",
   "execution_count": null,
   "metadata": {},
   "outputs": [],
   "source": []
  },
  {
   "cell_type": "code",
   "execution_count": 213,
   "metadata": {},
   "outputs": [
    {
     "data": {
      "text/plain": [
       "2641"
      ]
     },
     "execution_count": 213,
     "metadata": {},
     "output_type": "execute_result"
    }
   ],
   "source": [
    "len(movies)"
   ]
  },
  {
   "cell_type": "code",
   "execution_count": 641,
   "metadata": {},
   "outputs": [
    {
     "data": {
      "text/html": [
       "<div>\n",
       "<style scoped>\n",
       "    .dataframe tbody tr th:only-of-type {\n",
       "        vertical-align: middle;\n",
       "    }\n",
       "\n",
       "    .dataframe tbody tr th {\n",
       "        vertical-align: top;\n",
       "    }\n",
       "\n",
       "    .dataframe thead th {\n",
       "        text-align: right;\n",
       "    }\n",
       "</style>\n",
       "<table border=\"1\" class=\"dataframe\">\n",
       "  <thead>\n",
       "    <tr style=\"text-align: right;\">\n",
       "      <th></th>\n",
       "      <th>movie.Director</th>\n",
       "      <th>movie.IMDB Rating</th>\n",
       "      <th>movie.MPAA Rating</th>\n",
       "      <th>movie.Movie Link</th>\n",
       "      <th>movie.Summary</th>\n",
       "      <th>movie.Title</th>\n",
       "      <th>movie.Year</th>\n",
       "    </tr>\n",
       "  </thead>\n",
       "  <tbody>\n",
       "    <tr>\n",
       "      <th>0</th>\n",
       "      <td>Frank Darabont</td>\n",
       "      <td>9.3</td>\n",
       "      <td>R</td>\n",
       "      <td>imdb.com/title/tt0111161/</td>\n",
       "      <td>Two imprisoned men bond over a number of years...</td>\n",
       "      <td>The Shawshank Redemption</td>\n",
       "      <td>1994</td>\n",
       "    </tr>\n",
       "    <tr>\n",
       "      <th>1</th>\n",
       "      <td>Francis Ford Coppola</td>\n",
       "      <td>9.2</td>\n",
       "      <td>R</td>\n",
       "      <td>imdb.com/title/tt0068646/</td>\n",
       "      <td>The aging patriarch of an organized crime dyna...</td>\n",
       "      <td>The Godfather</td>\n",
       "      <td>1972</td>\n",
       "    </tr>\n",
       "    <tr>\n",
       "      <th>2</th>\n",
       "      <td>Christopher Nolan</td>\n",
       "      <td>9.0</td>\n",
       "      <td>PG-13</td>\n",
       "      <td>imdb.com/title/tt0468569/</td>\n",
       "      <td>When the menace known as the Joker wreaks havo...</td>\n",
       "      <td>The Dark Knight</td>\n",
       "      <td>2008</td>\n",
       "    </tr>\n",
       "    <tr>\n",
       "      <th>3</th>\n",
       "      <td>Francis Ford Coppola</td>\n",
       "      <td>9.0</td>\n",
       "      <td>R</td>\n",
       "      <td>imdb.com/title/tt0071562/</td>\n",
       "      <td>The early life and career of Vito Corleone in ...</td>\n",
       "      <td>The Godfather: Part II</td>\n",
       "      <td>1974</td>\n",
       "    </tr>\n",
       "    <tr>\n",
       "      <th>4</th>\n",
       "      <td>Peter Jackson</td>\n",
       "      <td>8.9</td>\n",
       "      <td>PG-13</td>\n",
       "      <td>imdb.com/title/tt0167260/</td>\n",
       "      <td>Gandalf and Aragorn lead the World of Men agai...</td>\n",
       "      <td>The Lord of the Rings: The Return of the King</td>\n",
       "      <td>2003</td>\n",
       "    </tr>\n",
       "  </tbody>\n",
       "</table>\n",
       "</div>"
      ],
      "text/plain": [
       "         movie.Director  movie.IMDB Rating movie.MPAA Rating  \\\n",
       "0        Frank Darabont                9.3                 R   \n",
       "1  Francis Ford Coppola                9.2                 R   \n",
       "2     Christopher Nolan                9.0             PG-13   \n",
       "3  Francis Ford Coppola                9.0                 R   \n",
       "4         Peter Jackson                8.9             PG-13   \n",
       "\n",
       "            movie.Movie Link  \\\n",
       "0  imdb.com/title/tt0111161/   \n",
       "1  imdb.com/title/tt0068646/   \n",
       "2  imdb.com/title/tt0468569/   \n",
       "3  imdb.com/title/tt0071562/   \n",
       "4  imdb.com/title/tt0167260/   \n",
       "\n",
       "                                       movie.Summary  \\\n",
       "0  Two imprisoned men bond over a number of years...   \n",
       "1  The aging patriarch of an organized crime dyna...   \n",
       "2  When the menace known as the Joker wreaks havo...   \n",
       "3  The early life and career of Vito Corleone in ...   \n",
       "4  Gandalf and Aragorn lead the World of Men agai...   \n",
       "\n",
       "                                     movie.Title movie.Year  \n",
       "0                       The Shawshank Redemption       1994  \n",
       "1                                  The Godfather       1972  \n",
       "2                                The Dark Knight       2008  \n",
       "3                         The Godfather: Part II       1974  \n",
       "4  The Lord of the Rings: The Return of the King       2003  "
      ]
     },
     "execution_count": 641,
     "metadata": {},
     "output_type": "execute_result"
    }
   ],
   "source": [
    "import pandas as pd\n",
    "from pandas.io.json import json_normalize\n",
    "df = json_normalize(movies)\n",
    "df.head()"
   ]
  },
  {
   "cell_type": "code",
   "execution_count": null,
   "metadata": {},
   "outputs": [],
   "source": [
    "#checking if all le\n",
    "print(len(titles))\n",
    "print(len(summs))\n",
    "print(len(years))\n",
    "print(len(imdb_ratings))\n",
    "print(len(mpaa_rates))"
   ]
  },
  {
   "cell_type": "markdown",
   "metadata": {},
   "source": [
    "To do:\n",
    "1. Fix the stars section, how to add them to dict\n",
    "\n",
    "2. find a way to get the documents transferred to mongodb\n",
    "\n",
    "3. Begin process of creating functionality - research how to do the things we want to do\n",
    "\n",
    "4. Optimize speed - could the m_containers loop be inside of the \"for url in urls\" loop? that may make the operation faster"
   ]
  },
  {
   "cell_type": "code",
   "execution_count": null,
   "metadata": {},
   "outputs": [],
   "source": [
    "titles_years = [{\"Title\": t, \"Year\": s} for t, s in zip(titles, years)]\n",
    "titles_years[:11]"
   ]
  },
  {
   "cell_type": "code",
   "execution_count": null,
   "metadata": {},
   "outputs": [],
   "source": [
    "import json\n",
    "print(json.dumps(movies))"
   ]
  },
  {
   "cell_type": "code",
   "execution_count": null,
   "metadata": {},
   "outputs": [],
   "source": []
  }
 ],
 "metadata": {
  "kernelspec": {
   "display_name": "Python 3",
   "language": "python",
   "name": "python3"
  },
  "language_info": {
   "codemirror_mode": {
    "name": "ipython",
    "version": 3
   },
   "file_extension": ".py",
   "mimetype": "text/x-python",
   "name": "python",
   "nbconvert_exporter": "python",
   "pygments_lexer": "ipython3",
   "version": "3.7.1"
  }
 },
 "nbformat": 4,
 "nbformat_minor": 4
}
